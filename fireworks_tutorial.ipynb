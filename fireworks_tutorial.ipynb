{
 "cells": [
  {
   "cell_type": "markdown",
   "id": "580758ee-4fc3-4a9b-bfee-27d5389c3bbf",
   "metadata": {},
   "source": [
    "# **FireWorks Tutorial**"
   ]
  },
  {
   "cell_type": "code",
   "execution_count": 1,
   "id": "8c572f20-40c3-41e3-99e0-8e7c85ab0f0e",
   "metadata": {},
   "outputs": [
    {
     "name": "stdout",
     "output_type": "stream",
     "text": [
      "2022-05-09 23:08:43,944 INFO Performing db tune-up\n",
      "2022-05-09 23:08:43,974 INFO LaunchPad was RESET.\n"
     ]
    }
   ],
   "source": [
    "# Importing standard libraries\n",
    "from fireworks import (Firework, \n",
    "                       Workflow, \n",
    "                       LaunchPad, \n",
    "                       ScriptTask, \n",
    "                       TemplateWriterTask, \n",
    "                       FileTransferTask, \n",
    "                       FiretaskBase, \n",
    "                       FWAction)\n",
    "\n",
    "from fireworks.core.rocket_launcher import rapidfire\n",
    "\n",
    "# Initialize LaunchPad and Reset\n",
    "launchpad = LaunchPad()\n",
    "launchpad.reset(\"\", require_password=False)"
   ]
  },
  {
   "cell_type": "markdown",
   "id": "9d2f7dcd-f72b-4390-bc36-f68e42978796",
   "metadata": {},
   "source": [
    "## **1.0 Hello World!**"
   ]
  },
  {
   "cell_type": "code",
   "execution_count": 2,
   "id": "f96a8d86-1eba-40b1-80dc-521aa1e88382",
   "metadata": {},
   "outputs": [
    {
     "name": "stdout",
     "output_type": "stream",
     "text": [
      "2022-05-09 23:08:43,991 INFO Added a workflow. id_map: {-2: 1, -1: 2}\n",
      "2022-05-09 23:08:44,188 INFO Created new dir /home/jovyan/launcher_2022-05-09-23-08-44-188228\n",
      "2022-05-09 23:08:44,189 INFO Launching Rocket\n",
      "2022-05-09 23:08:44,204 INFO RUNNING fw_id: 2 in directory: /home/jovyan/launcher_2022-05-09-23-08-44-188228\n",
      "2022-05-09 23:08:44,213 INFO Task started: ScriptTask.\n",
      "Hello World!\n",
      "2022-05-09 23:08:44,231 INFO Task completed: ScriptTask\n",
      "2022-05-09 23:08:44,254 INFO Rocket finished\n",
      "2022-05-09 23:08:44,260 INFO Created new dir /home/jovyan/launcher_2022-05-09-23-08-44-259953\n",
      "2022-05-09 23:08:44,261 INFO Launching Rocket\n",
      "2022-05-09 23:08:44,279 INFO RUNNING fw_id: 1 in directory: /home/jovyan/launcher_2022-05-09-23-08-44-259953\n",
      "2022-05-09 23:08:44,287 INFO Task started: ScriptTask.\n",
      "Goodbye!!\n",
      "2022-05-09 23:08:44,299 INFO Task completed: ScriptTask\n",
      "2022-05-09 23:08:44,319 INFO Rocket finished\n"
     ]
    }
   ],
   "source": [
    "# Create the individual FireWorks\n",
    "fw1 = Firework(ScriptTask.from_str('echo \"Hello World!\"'), name=\"hello\")\n",
    "fw2 = Firework(ScriptTask.from_str('echo \"Goodbye!!\"'), name=\"bye\")\n",
    "\n",
    "# Create a workflow that contains the previous Fireworks\n",
    "wf_hello = Workflow([fw1, fw2], {fw1:fw2}, name=\"hello world workflow\")\n",
    "\n",
    "# Add workflow to the launchpad\n",
    "launchpad.add_wf(wf_hello)\n",
    "\n",
    "# Run the entire workflow\n",
    "rapidfire(launchpad)"
   ]
  },
  {
   "cell_type": "markdown",
   "id": "1a5ef5e0-46fb-43cc-ad50-aff020a981a2",
   "metadata": {},
   "source": [
    "## **2.0 Running Multipe FireTasks**"
   ]
  },
  {
   "cell_type": "code",
   "execution_count": 3,
   "id": "c18b0e59-8310-4ed1-b543-0ab06b7d22cb",
   "metadata": {},
   "outputs": [
    {
     "name": "stdout",
     "output_type": "stream",
     "text": [
      "2022-05-09 23:08:44,496 INFO Added a workflow. id_map: {-3: 3}\n",
      "2022-05-09 23:08:44,511 INFO Created new dir /home/jovyan/launcher_2022-05-09-23-08-44-510929\n",
      "2022-05-09 23:08:44,512 INFO Launching Rocket\n",
      "2022-05-09 23:08:44,527 INFO RUNNING fw_id: 3 in directory: /home/jovyan/launcher_2022-05-09-23-08-44-510929\n",
      "2022-05-09 23:08:44,532 INFO Task started: TemplateWriterTask.\n",
      "2022-05-09 23:08:44,537 INFO Task completed: TemplateWriterTask\n",
      "2022-05-09 23:08:44,541 INFO Task started: ScriptTask.\n",
      "2022-05-09 23:08:44,551 INFO Task completed: ScriptTask\n",
      "2022-05-09 23:08:44,556 INFO Task started: FileTransferTask.\n",
      "2022-05-09 23:08:44,558 INFO Task completed: FileTransferTask\n",
      "2022-05-09 23:08:44,573 INFO Rocket finished\n"
     ]
    }
   ],
   "source": [
    "# Create the Fireworks consisting of multiple tasks\n",
    "ft1 = TemplateWriterTask({'context': {'opt1': 5.0, 'opt2': 'fast method'}, 'template_file': 'simple_template.txt', 'output_file': 'inputs.txt'})\n",
    "ft2 = ScriptTask.from_str('wc -w < inputs.txt > words.txt')\n",
    "ft3 = FileTransferTask({'files': [{'src': 'words.txt', 'dest': '~/words.txt'}], 'mode': 'copy'})\n",
    "\n",
    "# Group all 3 Tasks inside a Firework\n",
    "fw = Firework([ft1, ft2, ft3], name=\"Firework with 3 Firetasks\")\n",
    "\n",
    "# Wrap the Firework into a workflow\n",
    "wf = Workflow([fw], name=\"Multiple FireTasks Workflow\")\n",
    "\n",
    "# Add workflow to the launchpad\n",
    "launchpad.add_wf(wf)\n",
    "rapidfire(launchpad)"
   ]
  },
  {
   "cell_type": "markdown",
   "id": "e4722f4c-815e-4623-98a5-3c02ed14e63a",
   "metadata": {},
   "source": [
    "## **3.0 Creating a Custom FireTask**"
   ]
  },
  {
   "cell_type": "code",
   "execution_count": 4,
   "id": "fddfff50-e782-4f60-8e39-9a46953e8bc0",
   "metadata": {},
   "outputs": [],
   "source": [
    "# Create a custom FireTask that given an array adds them\n",
    "class AdditionTask(FiretaskBase):\n",
    "    \n",
    "    _fw_name = \"Addition Task\"\n",
    "    \n",
    "    def run_task(self, fw_spec):\n",
    "        input_array = fw_spec['input_array']\n",
    "        m_sum = sum(input_array)\n",
    "        \n",
    "        print(f\"The sum of {input_array} is: {m_sum}\")\n",
    "        \n",
    "        return FWAction(stored_data={'sum': m_sum}, mod_spec=[{'_push': {'input_array': m_sum}}])"
   ]
  },
  {
   "cell_type": "code",
   "execution_count": 5,
   "id": "c05f9c0c-476a-4fbd-b49e-598ed1ca4f56",
   "metadata": {},
   "outputs": [
    {
     "name": "stdout",
     "output_type": "stream",
     "text": [
      "2022-05-09 23:08:44,837 INFO Added a workflow. id_map: {-4: 4}\n",
      "2022-05-09 23:08:44,857 INFO Created new dir /home/jovyan/launcher_2022-05-09-23-08-44-857247\n",
      "2022-05-09 23:08:44,859 INFO Launching Rocket\n",
      "2022-05-09 23:08:44,879 INFO RUNNING fw_id: 4 in directory: /home/jovyan/launcher_2022-05-09-23-08-44-857247\n",
      "2022-05-09 23:08:44,885 INFO Task started: Addition Task.\n",
      "The sum of [1, 2] is: 3\n",
      "2022-05-09 23:08:44,887 INFO Task completed: Addition Task\n",
      "2022-05-09 23:08:44,903 INFO Rocket finished\n"
     ]
    }
   ],
   "source": [
    "# Create the Firework consisting of a our custom AdditionTask\n",
    "fw_sum = Firework(AdditionTask(), spec={\"input_array\": [1, 2]}, name=\"Addition FW\")\n",
    "\n",
    "# Create workflow\n",
    "wf_sum = Workflow([fw_sum], name=\"Custom Addition Task Workflow\")\n",
    "\n",
    "# Add to the launchpad and run\n",
    "launchpad.add_wf(wf_sum)\n",
    "rapidfire(launchpad)"
   ]
  },
  {
   "cell_type": "markdown",
   "id": "a14a1b99-3ee8-4b07-b836-dd57078f4bc1",
   "metadata": {},
   "source": [
    "## **4.0 Creating The Simplest Workflow**"
   ]
  },
  {
   "cell_type": "code",
   "execution_count": 6,
   "id": "80d23551-9cf6-4d49-abe4-0abb38d7ef59",
   "metadata": {},
   "outputs": [
    {
     "name": "stdout",
     "output_type": "stream",
     "text": [
      "2022-05-09 23:08:45,072 INFO Added a workflow. id_map: {-6: 5, -5: 6}\n",
      "2022-05-09 23:08:45,079 INFO Created new dir /home/jovyan/launcher_2022-05-09-23-08-45-079343\n",
      "2022-05-09 23:08:45,080 INFO Launching Rocket\n",
      "2022-05-09 23:08:45,094 INFO RUNNING fw_id: 6 in directory: /home/jovyan/launcher_2022-05-09-23-08-45-079343\n",
      "2022-05-09 23:08:45,100 INFO Task started: ScriptTask.\n",
      "To be, or not to be,\n",
      "2022-05-09 23:08:45,115 INFO Task completed: ScriptTask\n",
      "2022-05-09 23:08:45,136 INFO Rocket finished\n",
      "2022-05-09 23:08:45,141 INFO Created new dir /home/jovyan/launcher_2022-05-09-23-08-45-141430\n",
      "2022-05-09 23:08:45,142 INFO Launching Rocket\n",
      "2022-05-09 23:08:45,156 INFO RUNNING fw_id: 5 in directory: /home/jovyan/launcher_2022-05-09-23-08-45-141430\n",
      "2022-05-09 23:08:45,161 INFO Task started: ScriptTask.\n",
      "That is the question: \n",
      "2022-05-09 23:08:45,198 INFO Task completed: ScriptTask\n",
      "2022-05-09 23:08:45,215 INFO Rocket finished\n"
     ]
    }
   ],
   "source": [
    "# Create the individual FireWorks\n",
    "fw1 = Firework(ScriptTask.from_str('echo \"To be, or not to be,\"'), name=\"To be, or not to be,\")\n",
    "fw2 = Firework(ScriptTask.from_str('echo \"That is the question: \"'), name=\"That is the question:\", parents=[fw1])\n",
    "\n",
    "# Create a workflow that contains the previous Fireworks\n",
    "wf_hello = Workflow([fw1, fw2], name=\"Hamlet\")\n",
    "\n",
    "# Add workflow to the launchpad\n",
    "launchpad.add_wf(wf_hello)\n",
    "\n",
    "# Run the entire workflow\n",
    "rapidfire(launchpad)"
   ]
  },
  {
   "cell_type": "markdown",
   "id": "33688b24-a4ed-4bf0-92af-4088c39eeb49",
   "metadata": {},
   "source": [
    "## **5.0 A Diamond Workflow**"
   ]
  },
  {
   "cell_type": "code",
   "execution_count": 7,
   "id": "0edc819b-0c78-4769-ab5e-b6b7f87e72c6",
   "metadata": {},
   "outputs": [
    {
     "name": "stdout",
     "output_type": "stream",
     "text": [
      "2022-05-09 23:08:45,386 INFO Added a workflow. id_map: {-10: 7, -9: 8, -8: 9, -7: 10}\n",
      "2022-05-09 23:08:45,396 INFO Created new dir /home/jovyan/launcher_2022-05-09-23-08-45-395509\n",
      "2022-05-09 23:08:45,397 INFO Launching Rocket\n",
      "2022-05-09 23:08:45,410 INFO RUNNING fw_id: 10 in directory: /home/jovyan/launcher_2022-05-09-23-08-45-395509\n",
      "2022-05-09 23:08:45,416 INFO Task started: ScriptTask.\n",
      "Ingrid is the CEO\n",
      "2022-05-09 23:08:45,430 INFO Task completed: ScriptTask\n",
      "2022-05-09 23:08:45,451 INFO Rocket finished\n",
      "2022-05-09 23:08:45,457 INFO Created new dir /home/jovyan/launcher_2022-05-09-23-08-45-457098\n",
      "2022-05-09 23:08:45,458 INFO Launching Rocket\n",
      "2022-05-09 23:08:45,473 INFO RUNNING fw_id: 8 in directory: /home/jovyan/launcher_2022-05-09-23-08-45-457098\n",
      "2022-05-09 23:08:45,478 INFO Task started: ScriptTask.\n",
      "Jill is a manager.\n",
      "2022-05-09 23:08:45,493 INFO Task completed: ScriptTask\n",
      "2022-05-09 23:08:45,513 INFO Rocket finished\n",
      "2022-05-09 23:08:45,518 INFO Created new dir /home/jovyan/launcher_2022-05-09-23-08-45-517774\n",
      "2022-05-09 23:08:45,519 INFO Launching Rocket\n",
      "2022-05-09 23:08:45,534 INFO RUNNING fw_id: 9 in directory: /home/jovyan/launcher_2022-05-09-23-08-45-517774\n",
      "2022-05-09 23:08:45,540 INFO Task started: ScriptTask.\n",
      "Jack is a manager.\n",
      "2022-05-09 23:08:45,549 INFO Task completed: ScriptTask\n",
      "2022-05-09 23:08:45,567 INFO Rocket finished\n",
      "2022-05-09 23:08:45,573 INFO Created new dir /home/jovyan/launcher_2022-05-09-23-08-45-572292\n",
      "2022-05-09 23:08:45,574 INFO Launching Rocket\n",
      "2022-05-09 23:08:45,589 INFO RUNNING fw_id: 7 in directory: /home/jovyan/launcher_2022-05-09-23-08-45-572292\n",
      "2022-05-09 23:08:45,594 INFO Task started: ScriptTask.\n",
      "Kip is an intern.\n",
      "2022-05-09 23:08:45,607 INFO Task completed: ScriptTask\n",
      "2022-05-09 23:08:45,622 INFO Rocket finished\n"
     ]
    }
   ],
   "source": [
    "# Create the invidual FireWorks\n",
    "fw1 = Firework(ScriptTask.from_str('echo \"Ingrid is the CEO\"'), name=\"Ingrid is the CEO.\")\n",
    "fw11 = Firework(ScriptTask.from_str('echo \"Jack is a manager.\"'), name=\"Jack is a manager.\", parents=[fw1])\n",
    "fw12 = Firework(ScriptTask.from_str('echo \"Jill is a manager.\"'), name=\"Jill is a manager.\", parents=[fw1])\n",
    "fw2 = Firework(ScriptTask.from_str('echo \"Kip is an intern.\"'), name=\"Kip is an intern.\", parents=[fw11, fw12])\n",
    "\n",
    "# Create a workflow that contains the previous FireWorks\n",
    "wf_diamond = Workflow([fw1, fw11, fw12, fw2], name=\"Diamond Workflow\")\n",
    "\n",
    "# Add workflow to the launchpad\n",
    "launchpad.add_wf(wf_diamond)\n",
    "\n",
    "# Run the entire workflow\n",
    "rapidfire(launchpad)"
   ]
  },
  {
   "cell_type": "markdown",
   "id": "80db62e4-21bf-4193-adab-58bad0b18de9",
   "metadata": {},
   "source": [
    "## **6.0 Dynamic Workflow**"
   ]
  },
  {
   "cell_type": "code",
   "execution_count": 8,
   "id": "559307db-843a-451a-af21-5c62d48df9bb",
   "metadata": {},
   "outputs": [],
   "source": [
    "# Create the FibonacciAdderTask\n",
    "class FibonacciAdderTask(FiretaskBase):\n",
    "    \n",
    "    _fw_name = \"Fibonacci Adder Task\"\n",
    "    \n",
    "    def run_task(self, fw_spec):\n",
    "        smaller = fw_spec[\"smaller\"]\n",
    "        larger = fw_spec[\"larger\"]\n",
    "        stop_point = fw_spec[\"stop_point\"]\n",
    "        \n",
    "        m_sum = smaller + larger\n",
    "        \n",
    "        if m_sum < stop_point:\n",
    "            print(f\"The nex Fibonacci number is: {m_sum}\")\n",
    "            # Create a new Fibonacci adder to add to the workflow \"dynamically\"\n",
    "            new_fw = Firework(FibonacciAdderTask(), {\"smaller\": larger, \"larger\": m_sum, \"stop_point\": stop_point})\n",
    "            return FWAction(stored_data={\"next_fibnum\": m_sum}, additions=[new_fw])\n",
    "        else:\n",
    "            print(f\"We have now exceeded our limit; (the next Fibonacci number would have been: {m_sum})\")\n",
    "            return FWAction()"
   ]
  },
  {
   "cell_type": "code",
   "execution_count": 9,
   "id": "1332fd8b-670e-49bd-9d08-7b066a897924",
   "metadata": {},
   "outputs": [
    {
     "name": "stdout",
     "output_type": "stream",
     "text": [
      "2022-05-09 23:08:45,861 INFO Added a workflow. id_map: {-11: 11}\n",
      "2022-05-09 23:08:45,874 INFO Created new dir /home/jovyan/launcher_2022-05-09-23-08-45-874310\n",
      "2022-05-09 23:08:45,875 INFO Launching Rocket\n",
      "2022-05-09 23:08:45,889 INFO RUNNING fw_id: 11 in directory: /home/jovyan/launcher_2022-05-09-23-08-45-874310\n",
      "2022-05-09 23:08:45,896 INFO Task started: Fibonacci Adder Task.\n",
      "The next Fibonacci number is: 1\n",
      "2022-05-09 23:08:45,897 INFO Task completed: Fibonacci Adder Task\n",
      "2022-05-09 23:08:45,912 INFO Rocket finished\n",
      "2022-05-09 23:08:45,917 INFO Created new dir /home/jovyan/launcher_2022-05-09-23-08-45-917289\n",
      "2022-05-09 23:08:45,918 INFO Launching Rocket\n",
      "2022-05-09 23:08:45,934 INFO RUNNING fw_id: 12 in directory: /home/jovyan/launcher_2022-05-09-23-08-45-917289\n",
      "2022-05-09 23:08:45,939 INFO Task started: Fibonacci Adder Task.\n",
      "The next Fibonacci number is: 2\n",
      "2022-05-09 23:08:45,940 INFO Task completed: Fibonacci Adder Task\n",
      "2022-05-09 23:08:45,955 INFO Rocket finished\n",
      "2022-05-09 23:08:45,960 INFO Created new dir /home/jovyan/launcher_2022-05-09-23-08-45-959458\n",
      "2022-05-09 23:08:45,961 INFO Launching Rocket\n",
      "2022-05-09 23:08:45,975 INFO RUNNING fw_id: 13 in directory: /home/jovyan/launcher_2022-05-09-23-08-45-959458\n",
      "2022-05-09 23:08:45,981 INFO Task started: Fibonacci Adder Task.\n",
      "The next Fibonacci number is: 3\n",
      "2022-05-09 23:08:45,982 INFO Task completed: Fibonacci Adder Task\n",
      "2022-05-09 23:08:45,998 INFO Rocket finished\n",
      "2022-05-09 23:08:46,003 INFO Created new dir /home/jovyan/launcher_2022-05-09-23-08-46-002761\n",
      "2022-05-09 23:08:46,004 INFO Launching Rocket\n",
      "2022-05-09 23:08:46,017 INFO RUNNING fw_id: 14 in directory: /home/jovyan/launcher_2022-05-09-23-08-46-002761\n",
      "2022-05-09 23:08:46,023 INFO Task started: Fibonacci Adder Task.\n",
      "The next Fibonacci number is: 5\n",
      "2022-05-09 23:08:46,024 INFO Task completed: Fibonacci Adder Task\n",
      "2022-05-09 23:08:46,040 INFO Rocket finished\n",
      "2022-05-09 23:08:46,044 INFO Created new dir /home/jovyan/launcher_2022-05-09-23-08-46-044445\n",
      "2022-05-09 23:08:46,045 INFO Launching Rocket\n",
      "2022-05-09 23:08:46,060 INFO RUNNING fw_id: 15 in directory: /home/jovyan/launcher_2022-05-09-23-08-46-044445\n",
      "2022-05-09 23:08:46,065 INFO Task started: Fibonacci Adder Task.\n",
      "The next Fibonacci number is: 8\n",
      "2022-05-09 23:08:46,066 INFO Task completed: Fibonacci Adder Task\n",
      "2022-05-09 23:08:46,083 INFO Rocket finished\n",
      "2022-05-09 23:08:46,088 INFO Created new dir /home/jovyan/launcher_2022-05-09-23-08-46-087720\n",
      "2022-05-09 23:08:46,089 INFO Launching Rocket\n",
      "2022-05-09 23:08:46,103 INFO RUNNING fw_id: 16 in directory: /home/jovyan/launcher_2022-05-09-23-08-46-087720\n",
      "2022-05-09 23:08:46,109 INFO Task started: Fibonacci Adder Task.\n",
      "The next Fibonacci number is: 13\n",
      "2022-05-09 23:08:46,110 INFO Task completed: Fibonacci Adder Task\n",
      "2022-05-09 23:08:46,125 INFO Rocket finished\n",
      "2022-05-09 23:08:46,130 INFO Created new dir /home/jovyan/launcher_2022-05-09-23-08-46-129960\n",
      "2022-05-09 23:08:46,131 INFO Launching Rocket\n",
      "2022-05-09 23:08:46,146 INFO RUNNING fw_id: 17 in directory: /home/jovyan/launcher_2022-05-09-23-08-46-129960\n",
      "2022-05-09 23:08:46,151 INFO Task started: Fibonacci Adder Task.\n",
      "The next Fibonacci number is: 21\n",
      "2022-05-09 23:08:46,152 INFO Task completed: Fibonacci Adder Task\n",
      "2022-05-09 23:08:46,167 INFO Rocket finished\n",
      "2022-05-09 23:08:46,172 INFO Created new dir /home/jovyan/launcher_2022-05-09-23-08-46-172113\n",
      "2022-05-09 23:08:46,173 INFO Launching Rocket\n",
      "2022-05-09 23:08:46,187 INFO RUNNING fw_id: 18 in directory: /home/jovyan/launcher_2022-05-09-23-08-46-172113\n",
      "2022-05-09 23:08:46,195 INFO Task started: Fibonacci Adder Task.\n",
      "The next Fibonacci number is: 34\n",
      "2022-05-09 23:08:46,196 INFO Task completed: Fibonacci Adder Task\n",
      "2022-05-09 23:08:46,212 INFO Rocket finished\n",
      "2022-05-09 23:08:46,217 INFO Created new dir /home/jovyan/launcher_2022-05-09-23-08-46-216724\n",
      "2022-05-09 23:08:46,218 INFO Launching Rocket\n",
      "2022-05-09 23:08:46,232 INFO RUNNING fw_id: 19 in directory: /home/jovyan/launcher_2022-05-09-23-08-46-216724\n",
      "2022-05-09 23:08:46,237 INFO Task started: Fibonacci Adder Task.\n",
      "The next Fibonacci number is: 55\n",
      "2022-05-09 23:08:46,239 INFO Task completed: Fibonacci Adder Task\n",
      "2022-05-09 23:08:46,256 INFO Rocket finished\n",
      "2022-05-09 23:08:46,260 INFO Created new dir /home/jovyan/launcher_2022-05-09-23-08-46-260289\n",
      "2022-05-09 23:08:46,261 INFO Launching Rocket\n",
      "2022-05-09 23:08:46,275 INFO RUNNING fw_id: 20 in directory: /home/jovyan/launcher_2022-05-09-23-08-46-260289\n",
      "2022-05-09 23:08:46,280 INFO Task started: Fibonacci Adder Task.\n",
      "The next Fibonacci number is: 89\n",
      "2022-05-09 23:08:46,281 INFO Task completed: Fibonacci Adder Task\n",
      "2022-05-09 23:08:46,297 INFO Rocket finished\n",
      "2022-05-09 23:08:46,301 INFO Created new dir /home/jovyan/launcher_2022-05-09-23-08-46-301379\n",
      "2022-05-09 23:08:46,302 INFO Launching Rocket\n",
      "2022-05-09 23:08:46,316 INFO RUNNING fw_id: 21 in directory: /home/jovyan/launcher_2022-05-09-23-08-46-301379\n",
      "2022-05-09 23:08:46,321 INFO Task started: Fibonacci Adder Task.\n",
      "We have now exceeded our limit; (the next Fibonacci number would have been: 144)\n",
      "2022-05-09 23:08:46,322 INFO Task completed: Fibonacci Adder Task\n",
      "2022-05-09 23:08:46,336 INFO Rocket finished\n"
     ]
    }
   ],
   "source": [
    "# Create a Firework with the new FibonacciAdderTask\n",
    "fw_fibo = Firework(FibonacciAdderTask(), spec={\"smaller\": 0, \"larger\": 1, \"stop_point\": 100}, name=\"FibonacciAdder Parent\")\n",
    "\n",
    "# Wrap the Firework as a workflow\n",
    "wf_fibo = Workflow([fw_fibo], name=\"Dynamics Workflow\")\n",
    "\n",
    "# Add to the launchpad and run\n",
    "launchpad.add_wf(wf_fibo)\n",
    "rapidfire(launchpad)"
   ]
  }
 ],
 "metadata": {
  "kernelspec": {
   "display_name": "Python 3 (ipykernel)",
   "language": "python",
   "name": "python3"
  },
  "language_info": {
   "codemirror_mode": {
    "name": "ipython",
    "version": 3
   },
   "file_extension": ".py",
   "mimetype": "text/x-python",
   "name": "python",
   "nbconvert_exporter": "python",
   "pygments_lexer": "ipython3",
   "version": "3.8.10"
  }
 },
 "nbformat": 4,
 "nbformat_minor": 5
}

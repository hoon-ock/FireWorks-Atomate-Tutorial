{
 "cells": [
  {
   "cell_type": "markdown",
   "id": "aea75695-878a-47fd-97dc-0fd4b635db5d",
   "metadata": {},
   "source": [
    "# **FireWorks/Atomate Tutorial (VASP)**"
   ]
  },
  {
   "cell_type": "code",
   "execution_count": null,
   "id": "af3f9cba-f108-41cc-87c5-a9694823fd06",
   "metadata": {},
   "outputs": [],
   "source": [
    "# Importing standard libraries\n",
    "import numpy as np\n",
    "import pandas as pd\n",
    "import matplotlib.pyplot as plt\n",
    "%matplotlib inline\n",
    "\n",
    "import warnings\n",
    "warnings.filterwarnings(\"ignore\")\n",
    "\n",
    "# PMG\n",
    "import pymatgen\n",
    "from pymatgen.io.cif import CifParser\n",
    "from pymatgen.symmetry.analyzer import SpacegroupAnalyzer\n",
    "from pymatgen.core.structure import Structure\n",
    "from pymatgen.io.vasp.sets import MVLSlabSet\n",
    "from pymatgen.io.vasp.inputs import Kpoints\n",
    "from pymatgen.analysis.elasticity.strain import Deformation\n",
    "from pymatgen.core.surface import (\n",
    "    SlabGenerator,\n",
    "    get_symmetrically_distinct_miller_indices,\n",
    ")\n",
    "\n",
    "# MP Rester\n",
    "from pymatgen.ext.matproj import MPRester\n",
    "mpr = MPRester()\n",
    "\n",
    "# FireWorks and Atomate\n",
    "from pydash.objects import has, get\n",
    "from atomate.vasp.fireworks.core import OptimizeFW, TransmuterFW, StaticFW\n",
    "from atomate.vasp.config import VASP_CMD, DB_FILE\n",
    "from fireworks import FiretaskBase, Firework, Workflow, explicit_serialize, LaunchPad\n",
    "from fireworks.utilities.fw_serializers import DATETIME_HANDLER\n",
    "from atomate.utils.utils import env_chk, get_logger\n",
    "from atomate.vasp.database import VaspCalcDb\n",
    "from fireworks.core.rocket_launcher import rapidfire\n",
    "\n",
    "# Analysis and Theoretical level\n",
    "from src.analysis import PlotEncutCalib, FitEOSTask, SlabThicknessTask\n",
    "from src.dft_settings import TheoreticalLevelSet\n",
    "\n",
    "# Logger\n",
    "logger = get_logger(__name__)\n",
    "\n",
    "# Initialize LaunchPad and Reset\n",
    "launchpad = LaunchPad()\n",
    "launchpad.reset(\"\", require_password=False)"
   ]
  },
  {
   "cell_type": "markdown",
   "id": "090c8a0c-b9d3-4c01-b7ff-5a1047a951c2",
   "metadata": {},
   "source": [
    "## **1.0 Theoretical level Calibration on Bulk Structure**"
   ]
  },
  {
   "cell_type": "code",
   "execution_count": null,
   "id": "99942221-b790-4d60-8e84-afc04974266c",
   "metadata": {},
   "outputs": [],
   "source": [
    "# Get the Pt bulk structure from Materials Project\n",
    "bulk_structure = mpr.get_structure_by_material_id(\"mp-126\", final=False, conventional_unit_cell=False)\n",
    "print(bulk_structure)"
   ]
  },
  {
   "cell_type": "code",
   "execution_count": null,
   "id": "b52a3a3f-a41a-447a-a88c-0c813e13b0ad",
   "metadata": {},
   "outputs": [],
   "source": [
    "# Alternative from CIF file\n",
    "bulk_structure = CifParser(\"Pt_mp-126.cif\").get_structures(primitive=False)[0]\n",
    "print(bulk_structure)"
   ]
  },
  {
   "cell_type": "code",
   "execution_count": null,
   "id": "f3359f5f-30f7-4f57-928a-8094d5d36764",
   "metadata": {},
   "outputs": [],
   "source": [
    "# Cut-off Calibration\n",
    "def ENCUT_WF(structure, encuts, vasp_cmd=VASP_CMD, db_file=DB_FILE):\n",
    "    \n",
    "    # List of fireworks\n",
    "    fws, parents = [], []\n",
    "    \n",
    "    # Loop over each ENCUT value\n",
    "    for n, encut in enumerate(encuts):\n",
    "        \n",
    "        # Create dict with new ENCUT key\n",
    "        incar_settings = {\"ENCUT\": float(encut), \"NSW\": 0}\n",
    "        \n",
    "        # Apply settings\n",
    "        vis_static_encut = TheoreticalLevelSet(structure, \n",
    "                                               bulk=True,\n",
    "                                               user_incar_settings=incar_settings)\n",
    "        \n",
    "        # Create a Static (single point) calculation\n",
    "        if n == 0:\n",
    "            fw = OptimizeFW(name=f\"Static-{encut}-{n}\", \n",
    "                          structure=structure,\n",
    "                          max_force_threshold=None,  \n",
    "                          vasp_input_set=vis_static_encut,\n",
    "                          job_type=\"normal\",\n",
    "                          vasp_cmd=vasp_cmd,\n",
    "                          db_file=db_file)\n",
    "            fws.append(fw)\n",
    "            \n",
    "        else:\n",
    "            fw = OptimizeFW(name=f\"Static-{encut}-{n}\", \n",
    "                          structure=structure,\n",
    "                          max_force_threshold=None,\n",
    "                          vasp_input_set=vis_static_encut,\n",
    "                          job_type=\"normal\",\n",
    "                          vasp_cmd=vasp_cmd,\n",
    "                          db_file=db_file, parents=fws[n-1])\n",
    "            fws.append(fw)\n",
    "            \n",
    "    # Post-processing\n",
    "    parents = fws[-1]\n",
    "    fw_plot = Firework(PlotEncutCalib(db_file=db_file), name=\"Encut calibration Plot\", parents=parents)\n",
    "    fws.append(fw_plot)\n",
    "    \n",
    "    # Wrap into a Workflow\n",
    "    wf_encut = Workflow(fws, name=\"Pt ENCUT Calibration\")\n",
    "    return wf_encut\n"
   ]
  },
  {
   "cell_type": "code",
   "execution_count": null,
   "id": "493a77f9-43a6-4608-a9f3-3e43092e6b22",
   "metadata": {},
   "outputs": [],
   "source": [
    "# Launch and Run!\n",
    "encuts_list = [280, 300, 320, 340, 360, 380, 400, 420, 440, 460, 480, 500]\n",
    "\n",
    "wf_encut = ENCUT_WF(structure=bulk_structure, encuts=encuts_list)\n",
    "launchpad.add_wf(wf_encut)\n",
    "\n",
    "rapidfire(launchpad)"
   ]
  },
  {
   "cell_type": "code",
   "execution_count": null,
   "id": "4badbc02-135b-4cff-b16f-0f053edce876",
   "metadata": {},
   "outputs": [],
   "source": [
    "# Show Encut calibration plot\n"
   ]
  },
  {
   "cell_type": "markdown",
   "id": "dbf2371f-c183-4687-8eea-3b179e068030",
   "metadata": {},
   "source": [
    "## **2.0 Bulk Structure (Equation of States)**"
   ]
  },
  {
   "cell_type": "code",
   "execution_count": null,
   "id": "580cf5c9-837f-4c63-bcd3-60b33a91a10c",
   "metadata": {},
   "outputs": [],
   "source": [
    "# Create EOS_WF\n",
    "def EOS_WF(structure, deformations, eos=\"vinet\", vasp_cmd=VASP_CMD, db_file=DB_FILE):\n",
    "    \n",
    "    # INCAR settings\n",
    "    relax_incar_settings = {\"ENCUT\": 420}\n",
    "    \n",
    "    # Bulk optimization\n",
    "    vis_relax = TheoreticalLevelSet(structure, \n",
    "                                    bulk=True,\n",
    "                                    user_incar_settings=relax_incar_settings)\n",
    "    \n",
    "    # Structure optimization firework\n",
    "    fws = [OptimizeFW(structure=structure,\n",
    "                      vasp_input_set=vis_relax, \n",
    "                      max_force_threshold=None,\n",
    "                      job_type=\"normal\",\n",
    "                      vasp_cmd=vasp_cmd, \n",
    "                      db_file=db_file, name=\"structure_optimization\")]\n",
    "    \n",
    "    # Static settings for deformations\n",
    "    static_incar_settings = {\"ENCUT\": 420, \"NSW\": 0}\n",
    "    vis_static = TheoreticalLevelSet(structure,\n",
    "                                     bulk=True,\n",
    "                                     user_incar_settings=static_incar_settings)\n",
    "    \n",
    "    # Create each deformation Firework and add them to the FW list\n",
    "    parents = fws[0]\n",
    "    deformations = [Deformation(defo_mat) for defo_mat in deformations]\n",
    "    for n, deformation in enumerate(deformations):\n",
    "        fw = TransmuterFW(name=f\"bulk_deformation_{n}\",\n",
    "                          structure=structure,\n",
    "                          transformations=[\"DeformStructureTransformation\"],\n",
    "                          transformation_params=[{\"deformation\": deformation.tolist()}],\n",
    "                          vasp_input_set=vis_static, parents=parents,\n",
    "                          vasp_cmd=vasp_cmd, db_file=db_file)\n",
    "        fws.append(fw)\n",
    "        \n",
    "    # Post-processing\n",
    "    parents = fws[1:]\n",
    "    fw_analysis = Firework(FitEOSTask(eos=eos, db_file=db_file, to_db=True), name=\"EOS Fitting Analysis\", parents=parents)\n",
    "    fws.append(fw_analysis)\n",
    "    \n",
    "    # Wrap into a workflow\n",
    "    wf_eos = Workflow(fws, name=\"EOS Workflow\")\n",
    "    return wf_eos    "
   ]
  },
  {
   "cell_type": "code",
   "execution_count": null,
   "id": "434d82d1-e614-42e3-bd91-a92de965d749",
   "metadata": {},
   "outputs": [],
   "source": [
    "# Launch and Run!\n",
    "deformations = [(np.identity(3) * (1 + x)).tolist() for x in np.linspace(-0.12, 0.12, 11)]\n",
    "\n",
    "wf_eos = EOS_WF(structure=bulk_structure, deformations=deformations)\n",
    "launchpad.add_wf(wf_eos)\n",
    "\n",
    "rapidfire(launchpad)"
   ]
  },
  {
   "cell_type": "code",
   "execution_count": null,
   "id": "fc4a676f-b58e-472f-8ed2-4ea76b5508cc",
   "metadata": {},
   "outputs": [],
   "source": [
    "# Show EOS Plot\n"
   ]
  },
  {
   "cell_type": "markdown",
   "id": "e931be8a-2eaf-4097-b606-49f2833375d2",
   "metadata": {},
   "source": [
    "## **3.0 From Pt Bulk -> Pt (111) Surface**"
   ]
  },
  {
   "cell_type": "code",
   "execution_count": null,
   "id": "cefc736d-5cc3-4c90-9d8c-bda7473808eb",
   "metadata": {},
   "outputs": [],
   "source": [
    "# Retrieve Equilibrium bulk structure from the DB\n",
    "def get_eq_bulk_db():\n",
    "    \n",
    "    # Path to DB_FILE\n",
    "    db_file = '/home/jovyan/atomate/config/db.json'\n",
    "    \n",
    "    # Connect to the DB\n",
    "    mmdb = VaspCalcDb.from_db_file(db_file, admin=True)\n",
    "    \n",
    "    # Search the EOS collection created before\n",
    "    collection = mmdb.db[\"eos\"]\n",
    "    \n",
    "    # Access to docs\n",
    "    doc = collection.find({})[0]\n",
    "    \n",
    "    # Equilibrium structure\n",
    "    struct = Structure.from_dict(doc[\"structure_eq\"])\n",
    "    \n",
    "    return struct\n",
    "\n",
    "bulk_struct_eq = get_eq_bulk_db()\n",
    "print(bulk_struct_eq)\n",
    "bulk_struct_eq.to(filename=\"Pt_mp-126_eq.cif\")"
   ]
  },
  {
   "cell_type": "code",
   "execution_count": null,
   "id": "5456d409-f9fc-4c6c-b07c-8109d603b33d",
   "metadata": {},
   "outputs": [],
   "source": [
    "# Slab Thickness Calibration\n",
    "def SlabThickness_WF(structure, miller_index, layers, repeat=[2,2,1], vasp_cmd=VASP_CMD, db_file=DB_FILE):\n",
    "    \n",
    "    # Given a PMG structure object get conventional standard\n",
    "    SGA = SpacegroupAnalyzer(structure)\n",
    "    bulk_structure = SGA.get_conventional_standard_structure()\n",
    "    \n",
    "    # Get the slab model\n",
    "    slab_list = []\n",
    "    for n, layer in enumerate(layers):\n",
    "        # Generate the slab model\n",
    "        slab_gen = SlabGenerator(\n",
    "                        bulk_structure,\n",
    "                        miller_index=miller_index,\n",
    "                        min_slab_size=layer,\n",
    "                        min_vacuum_size=12,\n",
    "                        in_unit_planes=True,\n",
    "                        center_slab=True,\n",
    "                        reorient_lattice=True,\n",
    "                        lll_reduce=True)\n",
    "        # Symmetrize\n",
    "        slab = slab_gen.get_slabs(symmetrize=True, ftol=0.01)[0]\n",
    "        # make supercell\n",
    "        slab.make_supercell(repeat)\n",
    "        # Append to slab_list\n",
    "        slab_list.append(slab)\n",
    "        \n",
    "    # Theoretical method for oriented bulk\n",
    "    vis_bulk = TheoreticalLevelSet(structure=slab_list[0].oriented_unit_cell,\n",
    "                                   bulk=True, user_incar_settings={\"ENCUT\": 420, \"NSW\": 0})\n",
    "    \n",
    "    fws = [OptimizeFW(name=f\"oriented_bulk\",\n",
    "                         structure=slab_list[0].oriented_unit_cell,\n",
    "                         vasp_input_set=vis_bulk,\n",
    "                         max_force_threshold=None,\n",
    "                         job_type=\"normal\",\n",
    "                         vasp_cmd=vasp_cmd,\n",
    "                         db_file=db_file)]\n",
    "        \n",
    "    # Theoretical methods for slabs\n",
    "    vis_slab_clean = TheoreticalLevelSet(structure=slab_list[0], \n",
    "                                         bulk=False, \n",
    "                                         user_incar_settings={\"ENCUT\": 420})\n",
    "    \n",
    "    # OptimizeFW for each surface\n",
    "    for layer, slab in zip(layers, slab_list):\n",
    "        \n",
    "        fw = OptimizeFW(name=f\"slab_thickness_{layer}\",\n",
    "                        structure=slab,\n",
    "                        vasp_input_set=vis_slab_clean,\n",
    "                        max_force_threshold=None,\n",
    "                        job_type=\"normal\",\n",
    "                        vasp_cmd=vasp_cmd,\n",
    "                        db_file=db_file, parents=fws[0])\n",
    "        fws.append(fw)\n",
    "            \n",
    "    # Post-processing slab_thickness\n",
    "    parents = fws[1:]\n",
    "    fw_analysis = Firework(SlabThicknessTask(db_file=db_file, to_db=True), name=\"Slab Thickness Analysis\", parents=parents)\n",
    "    fws.append(fw_analysis)\n",
    "    \n",
    "    # Wrap into a workflow\n",
    "    wf_thick = Workflow(fws, name=\"Slab Thickness Workflow\")\n",
    "    return wf_thick"
   ]
  },
  {
   "cell_type": "code",
   "execution_count": null,
   "id": "1d3e8198-2103-4538-bec5-98d471f646bc",
   "metadata": {},
   "outputs": [],
   "source": [
    "# Launch and Run!\n",
    "layers_list = [2, 3, 4, 5, 6, 7]\n",
    "\n",
    "wf_thick = SlabThickness_WF(structure=bulk_struct_eq, miller_index=(1,1,1), layers=layers_list)\n",
    "launchpad.add_wf(wf_thick)\n",
    "\n",
    "rapidfire(launchpad)"
   ]
  },
  {
   "cell_type": "code",
   "execution_count": null,
   "id": "0c6002cb-e7cd-4ee4-9c11-475f68ddde9f",
   "metadata": {},
   "outputs": [],
   "source": [
    "# Retrieve Equilibrium bulk structure from the DB\n",
    "def get_eq_bulk_db():\n",
    "    \n",
    "    # Path to DB_FILE\n",
    "    db_file = '/home/jovyan/atomate/config/db.json'\n",
    "    \n",
    "    # Connect to the DB\n",
    "    mmdb = VaspCalcDb.from_db_file(db_file, admin=True)\n",
    "    \n",
    "    # Search the EOS collection created before\n",
    "    d = mmdb.collection.find({\"task_label\": {\"$regex\": \"slab_thickness_*\"}})\n",
    "    \n",
    "    for n, a in enumerate(d):\n",
    "        print(a)\n",
    "    \n",
    "    return \n",
    "\n",
    "get_eq_bulk_db()"
   ]
  },
  {
   "cell_type": "markdown",
   "id": "072c1588-6b6c-4f39-9551-f511d5ae4781",
   "metadata": {},
   "source": [
    "## **4.0 Surface+Adsorbate (Adsorption Energy)**"
   ]
  },
  {
   "cell_type": "code",
   "execution_count": null,
   "id": "bb01193f-3254-47b6-be46-bf49aa9e208f",
   "metadata": {},
   "outputs": [],
   "source": [
    "# Adsorbate in a box (ref.)\n"
   ]
  },
  {
   "cell_type": "markdown",
   "id": "e218049d-3f09-4c0b-b8eb-377e49e19d16",
   "metadata": {},
   "source": [
    "## **5.0 Nudged Elastic Band (NEB)**"
   ]
  },
  {
   "cell_type": "code",
   "execution_count": null,
   "id": "7181023e-701b-4657-9b82-a9edc81c65d0",
   "metadata": {},
   "outputs": [],
   "source": [
    "# Maybe an H transfer or the methanol moving to another point of the surface\n"
   ]
  }
 ],
 "metadata": {
  "kernelspec": {
   "display_name": "Python 3 (ipykernel)",
   "language": "python",
   "name": "python3"
  },
  "language_info": {
   "codemirror_mode": {
    "name": "ipython",
    "version": 3
   },
   "file_extension": ".py",
   "mimetype": "text/x-python",
   "name": "python",
   "nbconvert_exporter": "python",
   "pygments_lexer": "ipython3",
   "version": "3.8.10"
  }
 },
 "nbformat": 4,
 "nbformat_minor": 5
}

{
 "cells": [
  {
   "cell_type": "markdown",
   "id": "aea75695-878a-47fd-97dc-0fd4b635db5d",
   "metadata": {},
   "source": [
    "# **FireWorks/Atomate Tutorial (VASP)**"
   ]
  },
  {
   "cell_type": "code",
   "execution_count": 1,
   "id": "af3f9cba-f108-41cc-87c5-a9694823fd06",
   "metadata": {},
   "outputs": [
    {
     "name": "stdout",
     "output_type": "stream",
     "text": [
      "2022-05-17 15:13:46,644 INFO Performing db tune-up\n",
      "2022-05-17 15:13:46,677 INFO LaunchPad was RESET.\n"
     ]
    }
   ],
   "source": [
    "# Importing standard libraries\n",
    "import numpy as np\n",
    "import pandas as pd\n",
    "import matplotlib.pyplot as plt\n",
    "%matplotlib inline\n",
    "\n",
    "import warnings\n",
    "warnings.filterwarnings(\"ignore\")\n",
    "\n",
    "# ASE\n",
    "import ase\n",
    "from ase.build import molecule\n",
    "\n",
    "# PMG\n",
    "import pymatgen\n",
    "from pymatgen.io.cif import CifParser\n",
    "from pymatgen.symmetry.analyzer import SpacegroupAnalyzer\n",
    "from pymatgen.core.structure import Structure\n",
    "from pymatgen.core.surface import Slab\n",
    "from pymatgen.io.vasp.sets import MVLSlabSet\n",
    "from pymatgen.io.vasp.inputs import Kpoints\n",
    "from pymatgen.analysis.elasticity.strain import Deformation\n",
    "from pymatgen.core.surface import (\n",
    "    SlabGenerator,\n",
    "    get_symmetrically_distinct_miller_indices,\n",
    ")\n",
    "from pymatgen.io.ase import AseAtomsAdaptor\n",
    "from pymatgen.analysis.adsorption import AdsorbateSiteFinder\n",
    "\n",
    "# MP Rester\n",
    "from pymatgen.ext.matproj import MPRester\n",
    "mpr = MPRester()\n",
    "\n",
    "# FireWorks and Atomate\n",
    "from pydash.objects import has, get\n",
    "from atomate.vasp.fireworks.core import OptimizeFW, TransmuterFW, StaticFW\n",
    "from atomate.vasp.config import VASP_CMD, DB_FILE\n",
    "from fireworks import FiretaskBase, Firework, Workflow, explicit_serialize, LaunchPad\n",
    "from fireworks.utilities.fw_serializers import DATETIME_HANDLER\n",
    "from atomate.utils.utils import env_chk, get_logger\n",
    "from atomate.vasp.database import VaspCalcDb\n",
    "from fireworks.core.rocket_launcher import rapidfire\n",
    "\n",
    "# Analysis and Theoretical level\n",
    "from src.analysis import PlotEncutCalib, FitEOSTask, SlabThicknessTask, AdsorptionEnergyTask\n",
    "from src.dft_settings import TheoreticalLevelSet, SelectiveDynamics\n",
    "\n",
    "# Logger\n",
    "logger = get_logger(__name__)\n",
    "\n",
    "# Initialize LaunchPad and Reset\n",
    "launchpad = LaunchPad()\n",
    "launchpad.reset(\"\", require_password=False)"
   ]
  },
  {
   "cell_type": "markdown",
   "id": "090c8a0c-b9d3-4c01-b7ff-5a1047a951c2",
   "metadata": {},
   "source": [
    "## **1.0 Theoretical level Calibration on Bulk Structure**"
   ]
  },
  {
   "cell_type": "markdown",
   "id": "b9700ed9-47f0-433c-a096-a6b757ea03b6",
   "metadata": {},
   "source": [
    "<center><img src=\"images/encut_calibration_wf.png\" width=800 height=800 /></center>"
   ]
  },
  {
   "cell_type": "code",
   "execution_count": null,
   "id": "99942221-b790-4d60-8e84-afc04974266c",
   "metadata": {},
   "outputs": [],
   "source": [
    "# Get the Pt bulk structure from Materials Project\n",
    "bulk_structure = mpr.get_structure_by_material_id(\"mp-126\", final=False, conventional_unit_cell=False)\n",
    "print(bulk_structure)"
   ]
  },
  {
   "cell_type": "code",
   "execution_count": null,
   "id": "b52a3a3f-a41a-447a-a88c-0c813e13b0ad",
   "metadata": {},
   "outputs": [],
   "source": [
    "# Alternative from CIF file\n",
    "bulk_structure = CifParser(\"Pt_mp-126.cif\").get_structures(primitive=False)[0]\n",
    "print(bulk_structure)"
   ]
  },
  {
   "cell_type": "code",
   "execution_count": null,
   "id": "f3359f5f-30f7-4f57-928a-8094d5d36764",
   "metadata": {},
   "outputs": [],
   "source": [
    "# Cut-off Calibration\n",
    "def ENCUT_WF(structure, encuts, vasp_cmd=VASP_CMD, db_file=DB_FILE):\n",
    "    \n",
    "    # List of fireworks\n",
    "    fws, parents = [], []\n",
    "    \n",
    "    # Loop over each ENCUT value\n",
    "    for n, encut in enumerate(encuts):\n",
    "        \n",
    "        # Create dict with new ENCUT key\n",
    "        incar_settings = {\"ENCUT\": float(encut), \"NSW\": 0}\n",
    "        \n",
    "        # Apply settings\n",
    "        vis_static_encut = TheoreticalLevelSet(structure, \n",
    "                                               bulk=True,\n",
    "                                               user_incar_settings=incar_settings)\n",
    "        \n",
    "        # Create a Static (single point) calculation\n",
    "        if n == 0:\n",
    "            fw = OptimizeFW(name=f\"Static-{encut}-{n}\", \n",
    "                          structure=structure,\n",
    "                          max_force_threshold=None,  \n",
    "                          vasp_input_set=vis_static_encut,\n",
    "                          job_type=\"normal\",\n",
    "                          vasp_cmd=vasp_cmd,\n",
    "                          db_file=db_file)\n",
    "            fws.append(fw)\n",
    "            \n",
    "        else:\n",
    "            fw = OptimizeFW(name=f\"Static-{encut}-{n}\", \n",
    "                          structure=structure,\n",
    "                          max_force_threshold=None,\n",
    "                          vasp_input_set=vis_static_encut,\n",
    "                          job_type=\"normal\",\n",
    "                          vasp_cmd=vasp_cmd,\n",
    "                          db_file=db_file, parents=fws[n-1])\n",
    "            fws.append(fw)\n",
    "            \n",
    "    # Post-processing\n",
    "    parents = fws[-1]\n",
    "    fw_plot = Firework(PlotEncutCalib(db_file=db_file), name=\"Encut calibration Plot\", parents=parents)\n",
    "    fws.append(fw_plot)\n",
    "    \n",
    "    # Wrap into a Workflow\n",
    "    wf_encut = Workflow(fws, name=\"Pt ENCUT Calibration\")\n",
    "    return wf_encut\n"
   ]
  },
  {
   "cell_type": "code",
   "execution_count": null,
   "id": "493a77f9-43a6-4608-a9f3-3e43092e6b22",
   "metadata": {},
   "outputs": [],
   "source": [
    "# Launch and Run!\n",
    "encuts_list = [280, 300, 320, 340, 360, 380, 400, 420, 440, 460, 480, 500]\n",
    "\n",
    "wf_encut = ENCUT_WF(structure=bulk_structure, encuts=encuts_list)\n",
    "launchpad.add_wf(wf_encut)\n",
    "\n",
    "rapidfire(launchpad)"
   ]
  },
  {
   "cell_type": "markdown",
   "id": "dbf2371f-c183-4687-8eea-3b179e068030",
   "metadata": {},
   "source": [
    "## **2.0 Bulk Structure (Equation of States)**"
   ]
  },
  {
   "cell_type": "markdown",
   "id": "17df6100-eee1-4661-8eb8-452908baa4c5",
   "metadata": {},
   "source": [
    "<center><img src=\"images/eos_wf.png\" width=1500 height=1500 /></center>"
   ]
  },
  {
   "cell_type": "code",
   "execution_count": null,
   "id": "580cf5c9-837f-4c63-bcd3-60b33a91a10c",
   "metadata": {},
   "outputs": [],
   "source": [
    "# Create EOS_WF\n",
    "def EOS_WF(structure, deformations, eos=\"vinet\", vasp_cmd=VASP_CMD, db_file=DB_FILE):\n",
    "    \n",
    "    # INCAR settings (relax both positions and cell)\n",
    "    relax_incar_settings = {\"ENCUT\": 420, \"ISIF\": 3}\n",
    "    \n",
    "    # Bulk optimization\n",
    "    vis_relax = TheoreticalLevelSet(structure, \n",
    "                                    bulk=True,\n",
    "                                    user_incar_settings=relax_incar_settings)\n",
    "    \n",
    "    # Structure optimization firework\n",
    "    fws = [OptimizeFW(structure=structure,\n",
    "                      vasp_input_set=vis_relax, \n",
    "                      max_force_threshold=None,\n",
    "                      job_type=\"normal\",\n",
    "                      vasp_cmd=vasp_cmd, \n",
    "                      db_file=db_file, name=\"structure_optimization\")]\n",
    "    \n",
    "    # Static settings for deformations\n",
    "    static_incar_settings = {\"ENCUT\": 420, \"NSW\": 0}\n",
    "    vis_static = TheoreticalLevelSet(structure,\n",
    "                                     bulk=True,\n",
    "                                     user_incar_settings=static_incar_settings)\n",
    "    \n",
    "    # Create each deformation Firework and add them to the FW list\n",
    "    parents = fws[0]\n",
    "    deformations = [Deformation(defo_mat) for defo_mat in deformations]\n",
    "    for n, deformation in enumerate(deformations):\n",
    "        fw = TransmuterFW(name=f\"bulk_deformation_{n}\",\n",
    "                          structure=structure,\n",
    "                          transformations=[\"DeformStructureTransformation\"],\n",
    "                          transformation_params=[{\"deformation\": deformation.tolist()}],\n",
    "                          vasp_input_set=vis_static, parents=parents,\n",
    "                          vasp_cmd=vasp_cmd, db_file=db_file)\n",
    "        fws.append(fw)\n",
    "        \n",
    "    # Post-processing\n",
    "    parents = fws[1:]\n",
    "    fw_analysis = Firework(FitEOSTask(eos=eos, db_file=db_file, to_db=True), name=\"EOS Fitting Analysis\", parents=parents)\n",
    "    fws.append(fw_analysis)\n",
    "    \n",
    "    # Wrap into a workflow\n",
    "    wf_eos = Workflow(fws, name=\"EOS Workflow\")\n",
    "    return wf_eos    "
   ]
  },
  {
   "cell_type": "code",
   "execution_count": null,
   "id": "434d82d1-e614-42e3-bd91-a92de965d749",
   "metadata": {},
   "outputs": [],
   "source": [
    "# Launch and Run!\n",
    "deformations = [(np.identity(3) * (1 + x)).tolist() for x in np.linspace(-0.12, 0.12, 11)]\n",
    "\n",
    "wf_eos = EOS_WF(structure=bulk_structure, deformations=deformations)\n",
    "launchpad.add_wf(wf_eos)\n",
    "\n",
    "rapidfire(launchpad)"
   ]
  },
  {
   "cell_type": "markdown",
   "id": "e931be8a-2eaf-4097-b606-49f2833375d2",
   "metadata": {},
   "source": [
    "## **3.0 From Pt Bulk -> Pt (111) Surface**"
   ]
  },
  {
   "cell_type": "markdown",
   "id": "1147ae23-6e47-48a2-86be-be7881ff19af",
   "metadata": {},
   "source": [
    "<center><img src=\"images/slab_thickness_wf.png\" width=1500 height=1500 /></center>"
   ]
  },
  {
   "cell_type": "code",
   "execution_count": null,
   "id": "cefc736d-5cc3-4c90-9d8c-bda7473808eb",
   "metadata": {},
   "outputs": [],
   "source": [
    "# Retrieve Equilibrium bulk structure from the DB\n",
    "def get_eq_bulk_db():\n",
    "    \n",
    "    # Path to DB_FILE\n",
    "    db_file = '/home/jovyan/atomate/config/db.json'\n",
    "    \n",
    "    # Connect to the DB\n",
    "    mmdb = VaspCalcDb.from_db_file(db_file, admin=True)\n",
    "    \n",
    "    # Search the EOS collection created before\n",
    "    collection = mmdb.db[\"eos\"]\n",
    "    \n",
    "    # Access to docs\n",
    "    doc = collection.find({})[0]\n",
    "    \n",
    "    # Equilibrium structure\n",
    "    struct = Structure.from_dict(doc[\"structure_eq\"])\n",
    "    \n",
    "    return struct\n",
    "\n",
    "bulk_struct_eq = get_eq_bulk_db()\n",
    "bulk_struct_eq.to(filename=\"Pt_mp-126.cif\")\n",
    "print(bulk_struct_eq)"
   ]
  },
  {
   "cell_type": "code",
   "execution_count": null,
   "id": "752bceb2-e3cd-4aa0-a7e0-9b58e5648c50",
   "metadata": {},
   "outputs": [],
   "source": [
    "# Alternative from CIF file\n",
    "bulk_struct_eq = CifParser(\"Pt_mp-126_eq.cif\").get_structures(primitive=False)[0]\n",
    "print(bulk_struct_eq)"
   ]
  },
  {
   "cell_type": "code",
   "execution_count": null,
   "id": "5456d409-f9fc-4c6c-b07c-8109d603b33d",
   "metadata": {},
   "outputs": [],
   "source": [
    "# Slab Thickness Calibration\n",
    "def SlabThickness_WF(structure, miller_index, layers, repeat=[2,2,1], vasp_cmd=VASP_CMD, db_file=DB_FILE):\n",
    "    \n",
    "    # Given a PMG structure object get conventional standard\n",
    "    SGA = SpacegroupAnalyzer(structure)\n",
    "    bulk_structure = SGA.get_conventional_standard_structure()\n",
    "    \n",
    "    # Get the slab model\n",
    "    slab_list = []\n",
    "    for n, layer in enumerate(layers):\n",
    "        # Generate the slab model\n",
    "        slab_gen = SlabGenerator(\n",
    "                        bulk_structure,\n",
    "                        miller_index=miller_index,\n",
    "                        min_slab_size=layer,\n",
    "                        min_vacuum_size=12,\n",
    "                        in_unit_planes=True,\n",
    "                        center_slab=True,\n",
    "                        reorient_lattice=True,\n",
    "                        lll_reduce=True)\n",
    "        # Symmetrize\n",
    "        slab = slab_gen.get_slabs(symmetrize=True, ftol=0.01)[0]\n",
    "        # make supercell\n",
    "        slab.make_supercell(repeat)\n",
    "        # selective dynamics\n",
    "        slab_new = SelectiveDynamics.center_of_mass(slab)\n",
    "        # Append to slab_list\n",
    "        slab_list.append(slab_new)\n",
    "        \n",
    "    # Theoretical method for oriented bulk\n",
    "    vis_bulk = TheoreticalLevelSet(structure=slab_list[0].oriented_unit_cell,\n",
    "                                   bulk=True, user_incar_settings={\"ENCUT\": 420, \"NSW\": 0})\n",
    "    \n",
    "    fws = [OptimizeFW(name=f\"oriented_bulk\",\n",
    "                         structure=slab_list[0].oriented_unit_cell,\n",
    "                         vasp_input_set=vis_bulk,\n",
    "                         max_force_threshold=None,\n",
    "                         job_type=\"normal\",\n",
    "                         vasp_cmd=vasp_cmd,\n",
    "                         db_file=db_file)]\n",
    "    \n",
    "    # OptimizeFW for each surface\n",
    "    for layer, slab in zip(layers, slab_list):\n",
    "        \n",
    "        # Theoretical level for each thickness\n",
    "        vis_slab_clean = TheoreticalLevelSet(structure=slab,\n",
    "                                             bulk=False,\n",
    "                                             user_incar_settings={\"ENCUT\": 420, \"NELM\": 80})\n",
    "        # OptimizeFW \n",
    "        fw = OptimizeFW(name=f\"slab_thickness_{layer}\",\n",
    "                        structure=slab,\n",
    "                        vasp_input_set=vis_slab_clean,\n",
    "                        max_force_threshold=None,\n",
    "                        job_type=\"normal\",\n",
    "                        vasp_cmd=vasp_cmd,\n",
    "                        db_file=db_file, parents=fws[0])\n",
    "        # Append\n",
    "        fws.append(fw)\n",
    "            \n",
    "    # Post-processing slab_thickness\n",
    "    parents = fws[1:]\n",
    "    fw_analysis = Firework(SlabThicknessTask(db_file=db_file, to_db=True), name=\"Slab Thickness Analysis\", parents=parents)\n",
    "    fws.append(fw_analysis)\n",
    "    \n",
    "    # Wrap into a workflow\n",
    "    wf_thick = Workflow(fws, name=\"Slab Thickness Workflow\")\n",
    "    return wf_thick"
   ]
  },
  {
   "cell_type": "code",
   "execution_count": null,
   "id": "1d3e8198-2103-4538-bec5-98d471f646bc",
   "metadata": {},
   "outputs": [],
   "source": [
    "# Launch and Run!\n",
    "layers_list = [2, 3, 4, 5, 6]\n",
    "\n",
    "wf_thick = SlabThickness_WF(structure=bulk_struct_eq, miller_index=(1,1,1), layers=layers_list[::-1])\n",
    "launchpad.add_wf(wf_thick)\n",
    "\n",
    "rapidfire(launchpad)"
   ]
  },
  {
   "cell_type": "code",
   "execution_count": 2,
   "id": "0c6002cb-e7cd-4ee4-9c11-475f68ddde9f",
   "metadata": {},
   "outputs": [],
   "source": [
    "# Helper function to retrieve thickness collection and select best slab thickness\n",
    "def get_slab_thickness(thickness=4):\n",
    "    from pymatgen.core.surface import Slab\n",
    "    \n",
    "    # Path to DB_FILE\n",
    "    db_file = '/home/jovyan/atomate/config/db.json'\n",
    "    \n",
    "    # Connect to the DB\n",
    "    mmdb = VaspCalcDb.from_db_file(db_file, admin=True)\n",
    "    \n",
    "    # Search the EOS collection created before\n",
    "    collection = mmdb.db[\"thickness\"]\n",
    "    \n",
    "    # Access to docs\n",
    "    doc = collection.find({})[0]\n",
    "    \n",
    "    # slab_obj_dict\n",
    "    slab_objects = doc[\"slab_objs\"]\n",
    "    \n",
    "    # slab\n",
    "    slab = Slab.from_dict(slab_objects[str(thickness)])\n",
    "    \n",
    "    return slab\n",
    "\n",
    "# Get the slab object from thickness collection\n",
    "pt_111_slab = get_slab_thickness()"
   ]
  },
  {
   "cell_type": "markdown",
   "id": "072c1588-6b6c-4f39-9551-f511d5ae4781",
   "metadata": {},
   "source": [
    "## **4.0 Surface+Adsorbate (Adsorption Energy)**"
   ]
  },
  {
   "cell_type": "markdown",
   "id": "39d1e26c-162a-46a6-8c8d-b06b2ced93b0",
   "metadata": {},
   "source": [
    "<center><img src=\"images/adsorption_energy_wf.png\" width=1500 height=1500 /></center>"
   ]
  },
  {
   "cell_type": "code",
   "execution_count": 3,
   "id": "bb01193f-3254-47b6-be46-bf49aa9e208f",
   "metadata": {},
   "outputs": [],
   "source": [
    "# Adsorption energy Workflow\n",
    "def AdsorptionE_WF(slab, thickness=4, adsorbate=\"CO\", ads_cell=[15, 15, 15], positions=[\"ontop\", \"bridge\", \"hollow\"], vasp_cmd=VASP_CMD, db_file=DB_FILE):\n",
    "    \n",
    "    # PMG ASEAtomsAdaptor\n",
    "    ase_adpt = AseAtomsAdaptor()\n",
    "    \n",
    "    # Adsorbate in a Box\n",
    "    ads_box = molecule(adsorbate)\n",
    "    ads_box.set_cell(ads_cell)\n",
    "    ads_box.center()\n",
    "    ads_struct = ase_adpt.get_structure(ads_box)\n",
    "    \n",
    "    # Theoretical level for the adsorbate in a box \n",
    "    vis_ads_box = TheoreticalLevelSet(ads_struct, \n",
    "                                      bulk=True, \n",
    "                                      user_incar_settings={\"ENCUT\": 420},\n",
    "                                      user_kpoints_settings=Kpoints.gamma_automatic((1,1,1)))\n",
    "    \n",
    "    # OptimizeFW for the ads in a box\n",
    "    fws = [OptimizeFW(name=f\"adsorbate_box\", \n",
    "                      structure=ads_struct, \n",
    "                      vasp_input_set=vis_ads_box,\n",
    "                      max_force_threshold=None,\n",
    "                      job_type=\"normal\",\n",
    "                      vasp_cmd=vasp_cmd,\n",
    "                      db_file=db_file)]\n",
    "    \n",
    "    # Adsorbate as Molecule object\n",
    "    ads_mol = molecule(adsorbate)\n",
    "    ads_mol = ase_adpt.get_molecule(ads_mol)\n",
    "    \n",
    "    # AdsorbateSiteFinder\n",
    "    asf = AdsorbateSiteFinder(slab)\n",
    "    slab_sites = asf.find_adsorption_sites(positions=positions, put_inside=True)\n",
    "    \n",
    "    # Loop over sites\n",
    "    slab_ads_dict = {}\n",
    "    for key, value in slab_sites.items():\n",
    "        if key == \"ontop\":\n",
    "            slab_ads = asf.add_adsorbate(ads_mol, value[0])\n",
    "            slab_ads_sd = SelectiveDynamics.center_of_mass(slab_ads)\n",
    "            slab_ads_dict.update({str(key): slab_ads_sd.as_dict()})\n",
    "            \n",
    "        if key == \"bridge\":\n",
    "            slab_ads = asf.add_adsorbate(ads_mol, value[0])\n",
    "            slab_ads_sd = SelectiveDynamics.center_of_mass(slab_ads)\n",
    "            slab_ads_dict.update({str(key): slab_ads_sd.as_dict()})\n",
    "            \n",
    "        if key == \"hollow\":\n",
    "            slab_ads = asf.add_adsorbate(ads_mol, value[0])\n",
    "            slab_ads_sd = SelectiveDynamics.center_of_mass(slab_ads)\n",
    "            slab_ads_dict.update({str(key): slab_ads_sd.as_dict()})\n",
    "            \n",
    "    # OptimizeFW for each slab_ads\n",
    "    for n, (label, slab_ads) in enumerate(slab_ads_dict.items()):\n",
    "        \n",
    "        # PMG Slab\n",
    "        slab_ads = Slab.from_dict(slab_ads)\n",
    "        \n",
    "        # Theoretical level\n",
    "        vis_slab_ads = TheoreticalLevelSet(structure=slab_ads,\n",
    "                                           bulk=False,\n",
    "                                           user_incar_settings={\"ENCUT\": 420, \"NSW\": 800})\n",
    "        # OptimizeFW\n",
    "        fw = OptimizeFW(name=f\"slab_ads_{label}_{n}\",\n",
    "                        structure=slab_ads,\n",
    "                        vasp_input_set=vis_slab_ads,\n",
    "                        max_force_threshold=None,\n",
    "                        job_type=\"normal\",\n",
    "                        vasp_cmd=vasp_cmd,\n",
    "                        db_file=db_file, parents=fws[0])\n",
    "        # Append\n",
    "        fws.append(fw)\n",
    "        \n",
    "    # Post-processing (Adsorption energy)\n",
    "    parents = fws[1:]\n",
    "    fw_analysis = Firework(AdsorptionEnergyTask(thickness=thickness, db_file=db_file, to_db=True), name=\"Adsorption Energy Analysis\", parents=parents)\n",
    "    fws.append(fw_analysis)\n",
    "    \n",
    "    # Wrap into a workflow\n",
    "    wf_ads_e = Workflow(fws, name=\"Adsoption Energy Workflow\")\n",
    "    return wf_ads_e"
   ]
  },
  {
   "cell_type": "code",
   "execution_count": 4,
   "id": "7148c87a-87a0-49ab-a3ad-3e4b09b5f609",
   "metadata": {},
   "outputs": [
    {
     "name": "stdout",
     "output_type": "stream",
     "text": [
      "2022-05-17 15:14:13,508 INFO Added a workflow. id_map: {-5: 1, -4: 2, -3: 3, -2: 4, -1: 5}\n",
      "2022-05-17 15:14:13,525 INFO Created new dir /home/jovyan/launcher_2022-05-17-15-14-13-525060\n",
      "2022-05-17 15:14:13,526 INFO Launching Rocket\n",
      "2022-05-17 15:14:13,552 INFO RUNNING fw_id: 5 in directory: /home/jovyan/launcher_2022-05-17-15-14-13-525060\n",
      "2022-05-17 15:14:13,561 INFO Task started: {{atomate.vasp.firetasks.write_inputs.WriteVaspFromIOSet}}.\n",
      "2022-05-17 15:14:13,795 INFO Task completed: {{atomate.vasp.firetasks.write_inputs.WriteVaspFromIOSet}}\n",
      "2022-05-17 15:14:13,799 INFO Task started: {{atomate.vasp.firetasks.run_calc.RunVaspCustodian}}.\n",
      "2022-05-17 15:15:03,718 INFO Task completed: {{atomate.vasp.firetasks.run_calc.RunVaspCustodian}}\n",
      "2022-05-17 15:15:03,727 INFO Task started: {{atomate.common.firetasks.glue_tasks.PassCalcLocs}}.\n",
      "2022-05-17 15:15:03,729 INFO Task completed: {{atomate.common.firetasks.glue_tasks.PassCalcLocs}}\n",
      "2022-05-17 15:15:03,732 INFO Task started: {{atomate.vasp.firetasks.parse_outputs.VaspToDb}}.\n",
      "2022-05-17 15:15:03,733 INFO atomate.vasp.firetasks.parse_outputs PARSING DIRECTORY: /home/jovyan/launcher_2022-05-17-15-14-13-525060\n",
      "2022-05-17 15:15:03,733 INFO atomate.vasp.drones Getting task doc for base dir :/home/jovyan/launcher_2022-05-17-15-14-13-525060\n",
      "2022-05-17 15:15:04,105 INFO atomate.vasp.drones Post-processing dir:/home/jovyan/launcher_2022-05-17-15-14-13-525060\n",
      "2022-05-17 15:15:04,106 WARNING atomate.vasp.drones Transformations file does not exist.\n",
      "2022-05-17 15:15:04,342 INFO atomate.vasp.drones Post-processed /home/jovyan/launcher_2022-05-17-15-14-13-525060\n",
      "2022-05-17 15:15:04,352 INFO atomate.utils.database Inserting fireworks-tutorial-0:/home/jovyan/launcher_2022-05-17-15-14-13-525060 with taskid = 24\n",
      "2022-05-17 15:15:04,360 INFO atomate.vasp.firetasks.parse_outputs Finished parsing with task_id: 24\n",
      "2022-05-17 15:15:04,362 INFO Task completed: {{atomate.vasp.firetasks.parse_outputs.VaspToDb}}\n",
      "2022-05-17 15:15:04,458 INFO Rocket finished\n",
      "2022-05-17 15:15:04,472 INFO Created new dir /home/jovyan/launcher_2022-05-17-15-15-04-471902\n",
      "2022-05-17 15:15:04,473 INFO Launching Rocket\n",
      "2022-05-17 15:15:04,527 INFO RUNNING fw_id: 2 in directory: /home/jovyan/launcher_2022-05-17-15-15-04-471902\n",
      "2022-05-17 15:15:04,545 INFO Task started: {{atomate.vasp.firetasks.write_inputs.WriteVaspFromIOSet}}.\n",
      "2022-05-17 15:15:04,819 INFO Task completed: {{atomate.vasp.firetasks.write_inputs.WriteVaspFromIOSet}}\n",
      "2022-05-17 15:15:04,823 INFO Task started: {{atomate.vasp.firetasks.run_calc.RunVaspCustodian}}.\n"
     ]
    },
    {
     "name": "stderr",
     "output_type": "stream",
     "text": [
      "ERROR:custodian.custodian:UnconvergedErrorHandler\n",
      "/opt/vasp.6.2.0_pgi_mkl/bin/vasp_std: no process found\n"
     ]
    },
    {
     "name": "stdout",
     "output_type": "stream",
     "text": [
      "2022-05-17 16:56:00,105 INFO Rocket finished\n"
     ]
    },
    {
     "name": "stderr",
     "output_type": "stream",
     "text": [
      "Traceback (most recent call last):\n",
      "  File \"/opt/conda/lib/python3.8/site-packages/fireworks/core/rocket.py\", line 261, in run\n",
      "    m_action = t.run_task(my_spec)\n",
      "  File \"/opt/conda/lib/python3.8/site-packages/atomate/vasp/firetasks/run_calc.py\", line 299, in run_task\n",
      "    c.run()\n",
      "  File \"/opt/conda/lib/python3.8/site-packages/custodian/custodian.py\", line 367, in run\n",
      "    self._run_job(job_n, job)\n",
      "  File \"/opt/conda/lib/python3.8/site-packages/custodian/custodian.py\", line 453, in _run_job\n",
      "    time.sleep(self.polling_time_step)\n",
      "KeyboardInterrupt\n",
      "INFO:rocket.launcher:Rocket finished\n",
      "DEBUG:launchpad:FW with id: 3 is unique!\n"
     ]
    },
    {
     "name": "stdout",
     "output_type": "stream",
     "text": [
      "2022-05-17 16:56:00,122 INFO Created new dir /home/jovyan/launcher_2022-05-17-16-56-00-121970\n"
     ]
    },
    {
     "name": "stderr",
     "output_type": "stream",
     "text": [
      "INFO:rocket.launcher:Created new dir /home/jovyan/launcher_2022-05-17-16-56-00-121970\n"
     ]
    },
    {
     "name": "stdout",
     "output_type": "stream",
     "text": [
      "2022-05-17 16:56:00,125 INFO Launching Rocket\n"
     ]
    },
    {
     "name": "stderr",
     "output_type": "stream",
     "text": [
      "INFO:rocket.launcher:Launching Rocket\n",
      "DEBUG:launchpad:FW with id: 3 is unique!\n",
      "DEBUG:launchpad:Created/updated Launch with launch_id: 3\n",
      "DEBUG:launchpad:RUNNING FW with id: 3\n"
     ]
    },
    {
     "name": "stdout",
     "output_type": "stream",
     "text": [
      "2022-05-17 16:56:00,187 INFO RUNNING fw_id: 3 in directory: /home/jovyan/launcher_2022-05-17-16-56-00-121970\n"
     ]
    },
    {
     "name": "stderr",
     "output_type": "stream",
     "text": [
      "INFO:rocket.launcher:RUNNING fw_id: 3 in directory: /home/jovyan/launcher_2022-05-17-16-56-00-121970\n"
     ]
    },
    {
     "name": "stdout",
     "output_type": "stream",
     "text": [
      "2022-05-17 16:56:00,208 INFO Task started: {{atomate.vasp.firetasks.write_inputs.WriteVaspFromIOSet}}.\n"
     ]
    },
    {
     "name": "stderr",
     "output_type": "stream",
     "text": [
      "INFO:rocket.launcher:Task started: {{atomate.vasp.firetasks.write_inputs.WriteVaspFromIOSet}}.\n"
     ]
    },
    {
     "name": "stdout",
     "output_type": "stream",
     "text": [
      "2022-05-17 16:56:00,600 INFO Task completed: {{atomate.vasp.firetasks.write_inputs.WriteVaspFromIOSet}}\n"
     ]
    },
    {
     "name": "stderr",
     "output_type": "stream",
     "text": [
      "INFO:rocket.launcher:Task completed: {{atomate.vasp.firetasks.write_inputs.WriteVaspFromIOSet}}\n"
     ]
    },
    {
     "name": "stdout",
     "output_type": "stream",
     "text": [
      "2022-05-17 16:56:00,608 INFO Task started: {{atomate.vasp.firetasks.run_calc.RunVaspCustodian}}.\n"
     ]
    },
    {
     "name": "stderr",
     "output_type": "stream",
     "text": [
      "INFO:rocket.launcher:Task started: {{atomate.vasp.firetasks.run_calc.RunVaspCustodian}}.\n"
     ]
    },
    {
     "name": "stdout",
     "output_type": "stream",
     "text": [
      "2022-05-17 16:56:05,036 INFO Rocket finished\n"
     ]
    },
    {
     "name": "stderr",
     "output_type": "stream",
     "text": [
      "Traceback (most recent call last):\n",
      "  File \"/opt/conda/lib/python3.8/site-packages/fireworks/core/rocket.py\", line 261, in run\n",
      "    m_action = t.run_task(my_spec)\n",
      "  File \"/opt/conda/lib/python3.8/site-packages/atomate/vasp/firetasks/run_calc.py\", line 299, in run_task\n",
      "    c.run()\n",
      "  File \"/opt/conda/lib/python3.8/site-packages/custodian/custodian.py\", line 367, in run\n",
      "    self._run_job(job_n, job)\n",
      "  File \"/opt/conda/lib/python3.8/site-packages/custodian/custodian.py\", line 453, in _run_job\n",
      "    time.sleep(self.polling_time_step)\n",
      "KeyboardInterrupt\n",
      "INFO:rocket.launcher:Rocket finished\n",
      "DEBUG:launchpad:FW with id: 4 is unique!\n"
     ]
    },
    {
     "name": "stdout",
     "output_type": "stream",
     "text": [
      "2022-05-17 16:56:05,055 INFO Created new dir /home/jovyan/launcher_2022-05-17-16-56-05-054728\n"
     ]
    },
    {
     "name": "stderr",
     "output_type": "stream",
     "text": [
      "INFO:rocket.launcher:Created new dir /home/jovyan/launcher_2022-05-17-16-56-05-054728\n"
     ]
    },
    {
     "name": "stdout",
     "output_type": "stream",
     "text": [
      "2022-05-17 16:56:05,057 INFO Launching Rocket\n"
     ]
    },
    {
     "name": "stderr",
     "output_type": "stream",
     "text": [
      "INFO:rocket.launcher:Launching Rocket\n",
      "DEBUG:launchpad:FW with id: 4 is unique!\n",
      "DEBUG:launchpad:Created/updated Launch with launch_id: 4\n",
      "DEBUG:launchpad:RUNNING FW with id: 4\n"
     ]
    },
    {
     "name": "stdout",
     "output_type": "stream",
     "text": [
      "2022-05-17 16:56:05,147 INFO RUNNING fw_id: 4 in directory: /home/jovyan/launcher_2022-05-17-16-56-05-054728\n"
     ]
    },
    {
     "name": "stderr",
     "output_type": "stream",
     "text": [
      "INFO:rocket.launcher:RUNNING fw_id: 4 in directory: /home/jovyan/launcher_2022-05-17-16-56-05-054728\n"
     ]
    },
    {
     "name": "stdout",
     "output_type": "stream",
     "text": [
      "2022-05-17 16:56:05,168 INFO Task started: {{atomate.vasp.firetasks.write_inputs.WriteVaspFromIOSet}}.\n"
     ]
    },
    {
     "name": "stderr",
     "output_type": "stream",
     "text": [
      "INFO:rocket.launcher:Task started: {{atomate.vasp.firetasks.write_inputs.WriteVaspFromIOSet}}.\n"
     ]
    },
    {
     "name": "stdout",
     "output_type": "stream",
     "text": [
      "2022-05-17 16:56:05,556 INFO Task completed: {{atomate.vasp.firetasks.write_inputs.WriteVaspFromIOSet}}\n"
     ]
    },
    {
     "name": "stderr",
     "output_type": "stream",
     "text": [
      "INFO:rocket.launcher:Task completed: {{atomate.vasp.firetasks.write_inputs.WriteVaspFromIOSet}}\n"
     ]
    },
    {
     "name": "stdout",
     "output_type": "stream",
     "text": [
      "2022-05-17 16:56:05,561 INFO Task started: {{atomate.vasp.firetasks.run_calc.RunVaspCustodian}}.\n"
     ]
    },
    {
     "name": "stderr",
     "output_type": "stream",
     "text": [
      "INFO:rocket.launcher:Task started: {{atomate.vasp.firetasks.run_calc.RunVaspCustodian}}.\n"
     ]
    },
    {
     "name": "stdout",
     "output_type": "stream",
     "text": [
      "2022-05-17 16:56:09,856 INFO Rocket finished\n"
     ]
    },
    {
     "name": "stderr",
     "output_type": "stream",
     "text": [
      "Traceback (most recent call last):\n",
      "  File \"/opt/conda/lib/python3.8/site-packages/fireworks/core/rocket.py\", line 261, in run\n",
      "    m_action = t.run_task(my_spec)\n",
      "  File \"/opt/conda/lib/python3.8/site-packages/atomate/vasp/firetasks/run_calc.py\", line 299, in run_task\n",
      "    c.run()\n",
      "  File \"/opt/conda/lib/python3.8/site-packages/custodian/custodian.py\", line 367, in run\n",
      "    self._run_job(job_n, job)\n",
      "  File \"/opt/conda/lib/python3.8/site-packages/custodian/custodian.py\", line 453, in _run_job\n",
      "    time.sleep(self.polling_time_step)\n",
      "KeyboardInterrupt\n",
      "INFO:rocket.launcher:Rocket finished\n",
      "DEBUG:launchpad:Aggregation '[{'$match': {'$or': [{'spec._fworker': {'$exists': False}}, {'spec._fworker': None}, {'spec._fworker': 'atomate_stack'}], 'state': {'$in': ['RUNNING', 'RESERVED']}}}, {'$project': {'fw_id': True, '_id': False}}]'.\n"
     ]
    }
   ],
   "source": [
    "# Launch and Run!\n",
    "wf_ads_e = AdsorptionE_WF(slab=pt_111_slab, adsorbate=\"CO\")\n",
    "launchpad.add_wf(wf_ads_e)\n",
    "\n",
    "rapidfire(launchpad)"
   ]
  },
  {
   "cell_type": "markdown",
   "id": "e218049d-3f09-4c0b-b8eb-377e49e19d16",
   "metadata": {},
   "source": [
    "## **The End!**"
   ]
  }
 ],
 "metadata": {
  "kernelspec": {
   "display_name": "Python 3 (ipykernel)",
   "language": "python",
   "name": "python3"
  },
  "language_info": {
   "codemirror_mode": {
    "name": "ipython",
    "version": 3
   },
   "file_extension": ".py",
   "mimetype": "text/x-python",
   "name": "python",
   "nbconvert_exporter": "python",
   "pygments_lexer": "ipython3",
   "version": "3.8.10"
  }
 },
 "nbformat": 4,
 "nbformat_minor": 5
}
